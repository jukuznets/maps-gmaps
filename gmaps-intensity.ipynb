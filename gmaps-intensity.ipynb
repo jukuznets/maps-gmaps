{
 "cells": [
  {
   "cell_type": "code",
   "execution_count": 1,
   "metadata": {},
   "outputs": [],
   "source": [
    "import pandas as pd\n",
    "import gmaps\n",
    "import gmaps.datasets\n",
    "from ipywidgets.embed import embed_minimal_html"
   ]
  },
  {
   "cell_type": "code",
   "execution_count": 2,
   "metadata": {},
   "outputs": [],
   "source": [
    "gmaps.configure(api_key='AI*************************************')"
   ]
  },
  {
   "cell_type": "code",
   "execution_count": 3,
   "metadata": {},
   "outputs": [
    {
     "data": {
      "text/html": [
       "<div>\n",
       "<style scoped>\n",
       "    .dataframe tbody tr th:only-of-type {\n",
       "        vertical-align: middle;\n",
       "    }\n",
       "\n",
       "    .dataframe tbody tr th {\n",
       "        vertical-align: top;\n",
       "    }\n",
       "\n",
       "    .dataframe thead th {\n",
       "        text-align: right;\n",
       "    }\n",
       "</style>\n",
       "<table border=\"1\" class=\"dataframe\">\n",
       "  <thead>\n",
       "    <tr style=\"text-align: right;\">\n",
       "      <th></th>\n",
       "      <th>latitude</th>\n",
       "      <th>longitude</th>\n",
       "      <th>rent</th>\n",
       "    </tr>\n",
       "  </thead>\n",
       "  <tbody>\n",
       "    <tr>\n",
       "      <th>0</th>\n",
       "      <td>53.9201</td>\n",
       "      <td>27.6423</td>\n",
       "      <td>23.090000</td>\n",
       "    </tr>\n",
       "    <tr>\n",
       "      <th>1</th>\n",
       "      <td>53.9202</td>\n",
       "      <td>27.5745</td>\n",
       "      <td>18.031250</td>\n",
       "    </tr>\n",
       "    <tr>\n",
       "      <th>2</th>\n",
       "      <td>53.9399</td>\n",
       "      <td>27.4674</td>\n",
       "      <td>17.966667</td>\n",
       "    </tr>\n",
       "    <tr>\n",
       "      <th>3</th>\n",
       "      <td>53.9379</td>\n",
       "      <td>27.4733</td>\n",
       "      <td>33.950980</td>\n",
       "    </tr>\n",
       "    <tr>\n",
       "      <th>4</th>\n",
       "      <td>53.9068</td>\n",
       "      <td>27.5325</td>\n",
       "      <td>34.457711</td>\n",
       "    </tr>\n",
       "  </tbody>\n",
       "</table>\n",
       "</div>"
      ],
      "text/plain": [
       "   latitude  longitude       rent\n",
       "0   53.9201    27.6423  23.090000\n",
       "1   53.9202    27.5745  18.031250\n",
       "2   53.9399    27.4674  17.966667\n",
       "3   53.9379    27.4733  33.950980\n",
       "4   53.9068    27.5325  34.457711"
      ]
     },
     "execution_count": 3,
     "metadata": {},
     "output_type": "execute_result"
    }
   ],
   "source": [
    "data = gmaps.datasets.load_dataset_as_df('belarus_rent')\n",
    "data.head()"
   ]
  },
  {
   "cell_type": "code",
   "execution_count": 4,
   "metadata": {},
   "outputs": [
    {
     "data": {
      "application/vnd.jupyter.widget-view+json": {
       "model_id": "70eddb51096042b3a70b989136a37b97",
       "version_major": 2,
       "version_minor": 0
      },
      "text/plain": [
       "Figure(layout=FigureLayout(border='2px solid white', height='75vh', padding='2px', width='100%'))"
      ]
     },
     "metadata": {},
     "output_type": "display_data"
    }
   ],
   "source": [
    "figure_layout = {\n",
    "    'width': '100%',\n",
    "    'height': '75vh',\n",
    "    'border': '2px solid white',\n",
    "    'padding': '2px'\n",
    "}\n",
    "\n",
    "locations = data[['latitude', 'longitude']]\n",
    "weights = data['rent']\n",
    "coordinates = (53.9, 27.55)\n",
    "\n",
    "fig = gmaps.figure(center=coordinates, \n",
    "                   zoom_level=11, \n",
    "                   map_type='HYBRID', \n",
    "                   layout=figure_layout)\n",
    "\n",
    "fig.add_layer(gmaps.heatmap_layer(locations, \n",
    "                                  weights=weights, \n",
    "                                  point_radius=10, \n",
    "                                  max_intensity=900))\n",
    "fig"
   ]
  },
  {
   "cell_type": "code",
   "execution_count": 5,
   "metadata": {},
   "outputs": [],
   "source": [
    "embed_minimal_html('export.html', views=[fig])"
   ]
  },
  {
   "cell_type": "code",
   "execution_count": null,
   "metadata": {},
   "outputs": [],
   "source": []
  }
 ],
 "metadata": {
  "kernelspec": {
   "display_name": "Python 3",
   "language": "python",
   "name": "python3"
  },
  "language_info": {
   "codemirror_mode": {
    "name": "ipython",
    "version": 3
   },
   "file_extension": ".py",
   "mimetype": "text/x-python",
   "name": "python",
   "nbconvert_exporter": "python",
   "pygments_lexer": "ipython3",
   "version": "3.8.3"
  }
 },
 "nbformat": 4,
 "nbformat_minor": 4
}
